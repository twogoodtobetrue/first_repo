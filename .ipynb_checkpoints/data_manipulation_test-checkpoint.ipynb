{
 "cells": [
  {
   "cell_type": "markdown",
   "id": "35824746",
   "metadata": {},
   "source": [
    "# number 1"
   ]
  },
  {
   "cell_type": "code",
   "execution_count": null,
   "id": "304f4d7d",
   "metadata": {},
   "outputs": [],
   "source": [
    "from airflow import DAG \n",
    "from airflow.operators.bash_operator import BashOperator \n",
    "from datetime import datetime, timedelta\n",
    "\n",
    "default_dag_args = { 'start_date': datetime(2022, 1, 1),\n",
    "    'email_on_failure': False,\n",
    "    'email_on_retry': False, 'retries': 1, \n",
    "    'retry_delay': timedelta(minutes=5),\n",
    "    'project_id': 1\n",
    "    }\n",
    "\n",
    "with DAG(\"First_DAG\", schedule_interval = None, default_args = default_dag_args) as dag:\n",
    "    task_0 = BashOperator(task_id = 'bash_task', bash_command = \"echo 'command executed from Bash Operator' \")\n",
    "    task_1 = BashOperator(task_id = 'bash_task_move_data', bash_command = \"cp /Users/pedrocarneiro/peter/develhop/DATA_CENTER/DATA_LAKE/dataset_raw.txt  /Users/pedrocarneiro/peter/develhop/DATA_CENTER/CLEAN_DATA\")\n",
    "    task_2 = BashOperator(task_id = 'bash_task_move_data', bash_command = \"rm /Users/pedrocarneiro/peter/develhop/DATA_CENTER/DATA_LAKE/dataset_raw.txt\" )\n",
    "task_0>>task_1>>task_2"
   ]
  },
  {
   "cell_type": "markdown",
   "id": "94ee78c5",
   "metadata": {},
   "source": [
    "# number 2"
   ]
  },
  {
   "cell_type": "code",
   "execution_count": null,
   "id": "0596928c",
   "metadata": {},
   "outputs": [],
   "source": [
    "from datetime import datetime, timedelta ,date\n",
    "from airflow import DAG \n",
    "from airflow.operators.python_operator import PythonOperator\n",
    "\n",
    "def python_first_function(): \n",
    "    day = date.today()\n",
    "    print('today date : ', day)\n",
    "\n",
    "\n",
    "default_dag_args = { 'start_date': datetime(2022, 9, 1),\n",
    " 'email_on_failure': False, \n",
    " 'email_on_retry': False, \n",
    " 'retries': 1, \n",
    " 'retry_delay': timedelta(minutes=5), \n",
    " 'project_id': 1 \n",
    " }\n",
    "\n",
    "with DAG(\"first_python_dag\", schedule_interval = '@daily', catchup=False, default_args = default_dag_args) as dag_python:\n",
    "    task_0 = PythonOperator(task_id = \"first_python_task\", python_callable = python_first_function)"
   ]
  },
  {
   "cell_type": "markdown",
   "id": "6fd2ba17",
   "metadata": {},
   "source": [
    "# number 3"
   ]
  },
  {
   "cell_type": "code",
   "execution_count": 2,
   "id": "c1664161",
   "metadata": {},
   "outputs": [
    {
     "data": {
      "text/html": [
       "<pre style=\"white-space:pre;overflow-x:auto;line-height:normal;font-family:Menlo,'DejaVu Sans Mono',consolas,'Courier New',monospace\"><span style=\"color: #808000; text-decoration-color: #808000; font-weight: bold\">/var/folders/5c/6nmvn8vj50x9g3nsj2pk_gt00000gn/T/ipykernel_9197/4134442300.py:</span><span style=\"color: #808000; text-decoration-color: #808000; font-weight: bold\">5</span><span style=\"color: #808000; text-decoration-color: #808000; font-weight: bold\"> DeprecationWarning</span><span style=\"color: #808000; text-decoration-color: #808000\">: The `airflow.operators.python_operator.PythonOperator` class is deprecated. Please use `</span><span style=\"color: #808000; text-decoration-color: #808000\">'airflow.operators.python.PythonOperator'</span><span style=\"color: #808000; text-decoration-color: #808000\">`.</span>\n",
       "</pre>\n"
      ],
      "text/plain": [
       "\u001b[1;33m/var/folders/5c/6nmvn8vj50x9g3nsj2pk_gt00000gn/T/ipykernel_9197/\u001b[0m\u001b[1;33m4134442300.py\u001b[0m\u001b[1;33m:\u001b[0m\u001b[1;33m5\u001b[0m\u001b[1;33m DeprecationWarning\u001b[0m\u001b[33m: The `airflow.operators.python_operator.PythonOperator` class is deprecated. Please use `\u001b[0m\u001b[33m'airflow.operators.python.PythonOperator'\u001b[0m\u001b[33m`.\u001b[0m\n"
      ]
     },
     "metadata": {},
     "output_type": "display_data"
    },
    {
     "data": {
      "text/html": [
       "<pre style=\"white-space:pre;overflow-x:auto;line-height:normal;font-family:Menlo,'DejaVu Sans Mono',consolas,'Courier New',monospace\"><span style=\"color: #808000; text-decoration-color: #808000; font-weight: bold\">/var/folders/5c/6nmvn8vj50x9g3nsj2pk_gt00000gn/T/ipykernel_9197/4134442300.py:</span><span style=\"color: #808000; text-decoration-color: #808000; font-weight: bold\">7</span><span style=\"color: #808000; text-decoration-color: #808000; font-weight: bold\"> DeprecationWarning</span><span style=\"color: #808000; text-decoration-color: #808000\">: The `airflow.operators.dummy.DummyOperator` class is deprecated. Please use `</span><span style=\"color: #808000; text-decoration-color: #808000\">'airflow.operators.empty.EmptyOperator'</span><span style=\"color: #808000; text-decoration-color: #808000\">`.</span>\n",
       "</pre>\n"
      ],
      "text/plain": [
       "\u001b[1;33m/var/folders/5c/6nmvn8vj50x9g3nsj2pk_gt00000gn/T/ipykernel_9197/\u001b[0m\u001b[1;33m4134442300.py\u001b[0m\u001b[1;33m:\u001b[0m\u001b[1;33m7\u001b[0m\u001b[1;33m DeprecationWarning\u001b[0m\u001b[33m: The `airflow.operators.dummy.DummyOperator` class is deprecated. Please use `\u001b[0m\u001b[33m'airflow.operators.empty.EmptyOperator'\u001b[0m\u001b[33m`.\u001b[0m\n"
      ]
     },
     "metadata": {},
     "output_type": "display_data"
    },
    {
     "name": "stdout",
     "output_type": "stream",
     "text": [
      "[\u001b[34m2023-03-31 13:33:25,797\u001b[0m] {\u001b[34mutils.py:\u001b[0m160} INFO\u001b[0m - NumExpr defaulting to 4 threads.\u001b[0m\n"
     ]
    },
    {
     "data": {
      "text/html": [
       "<pre style=\"white-space:pre;overflow-x:auto;line-height:normal;font-family:Menlo,'DejaVu Sans Mono',consolas,'Courier New',monospace\"><span style=\"color: #808000; text-decoration-color: #808000; font-weight: bold\">/var/folders/5c/6nmvn8vj50x9g3nsj2pk_gt00000gn/T/ipykernel_9197/4134442300.py:</span><span style=\"color: #808000; text-decoration-color: #808000; font-weight: bold\">60</span><span style=\"color: #808000; text-decoration-color: #808000; font-weight: bold\"> RemovedInAirflow3Warning</span><span style=\"color: #808000; text-decoration-color: #808000\">: Param `schedule_interval` is deprecated and will be removed in a future release. Please use `schedule` instead.</span>\n",
       "</pre>\n"
      ],
      "text/plain": [
       "\u001b[1;33m/var/folders/5c/6nmvn8vj50x9g3nsj2pk_gt00000gn/T/ipykernel_9197/\u001b[0m\u001b[1;33m4134442300.py\u001b[0m\u001b[1;33m:\u001b[0m\u001b[1;33m60\u001b[0m\u001b[1;33m RemovedInAirflow3Warning\u001b[0m\u001b[33m: Param `schedule_interval` is deprecated and will be removed in a future release. Please use `schedule` instead.\u001b[0m\n"
      ]
     },
     "metadata": {},
     "output_type": "display_data"
    }
   ],
   "source": [
    "import requests \n",
    "import time \n",
    "import json \n",
    "from airflow import DAG \n",
    "from airflow.operators.python_operator import PythonOperator \n",
    "from airflow.operators.python import BranchPythonOperator \n",
    "from airflow.operators.dummy import DummyOperator\n",
    "from datetime import datetime, timedelta \n",
    "import pandas as pd \n",
    "import numpy as np \n",
    "import os\n",
    "\n",
    "\n",
    "def get_data(tickers):\n",
    "    base_url = 'https://www.alphavantage.co/query'\n",
    "    api_key = 'RSWY9OWDPSCI2LW1'\n",
    "    results = {}\n",
    "    \n",
    "    for ticker in tickers:\n",
    "        params = {\n",
    "            'function': 'TIME_SERIES_DAILY',\n",
    "            'symbol': ticker,\n",
    "            'apikey': api_key,\n",
    "            'outputsize': 'full' \n",
    "        }\n",
    "        \n",
    "        response = requests.get(base_url, params=params)\n",
    "        data = response.json()\n",
    "        \n",
    "        if 'Time Series (Daily)' in data:\n",
    "            df = pd.DataFrame.from_dict(data['Time Series (Daily)'], orient='index')\n",
    "            df.index = pd.to_datetime(df.index)\n",
    "            df = df.astype(float)\n",
    "            df = df.rename(columns={\n",
    "                '1. open': 'open',\n",
    "                '2. high': 'high',\n",
    "                '3. low': 'low',\n",
    "                '4. close': 'close',\n",
    "                '5. volume': 'volume'\n",
    "            })\n",
    "            results[ticker] = df\n",
    "        else:\n",
    "            print(f\"No data found for {ticker}.\")\n",
    "            results[ticker] = None\n",
    "            \n",
    "        time.sleep(12)\n",
    "    \n",
    "    return results\n",
    "\n",
    "\n",
    "\n",
    "\n",
    "default_dag_args = { 'start_date': datetime(2022, 1, 1),\n",
    "    'email_on_failure': False,\n",
    "    'email_on_retry': False, 'retries': 1, \n",
    "    'retry_delay': timedelta(minutes=5),\n",
    "    'project_id': 1\n",
    "    }\n",
    "\n",
    "with DAG(\"market_data_alphavantage_dag\", schedule_interval = '@daily', catchup=False, default_args = default_dag_args) as dag_python:\n",
    "    task_0 = PythonOperator(task_id = \"get_market_data\", python_callable = get_data, op_kwargs = {'tickers': ['AAPL', 'GOOGL', 'MSFT']})\n"
   ]
  },
  {
   "cell_type": "code",
   "execution_count": null,
   "id": "3c43ac0c",
   "metadata": {},
   "outputs": [],
   "source": []
  }
 ],
 "metadata": {
  "kernelspec": {
   "display_name": "Python 3 (ipykernel)",
   "language": "python",
   "name": "python3"
  },
  "language_info": {
   "codemirror_mode": {
    "name": "ipython",
    "version": 3
   },
   "file_extension": ".py",
   "mimetype": "text/x-python",
   "name": "python",
   "nbconvert_exporter": "python",
   "pygments_lexer": "ipython3",
   "version": "3.9.13"
  }
 },
 "nbformat": 4,
 "nbformat_minor": 5
}
